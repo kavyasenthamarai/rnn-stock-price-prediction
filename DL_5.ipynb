{
  "nbformat": 4,
  "nbformat_minor": 0,
  "metadata": {
    "colab": {
      "provenance": []
    },
    "kernelspec": {
      "name": "python3",
      "display_name": "Python 3"
    },
    "language_info": {
      "name": "python"
    }
  },
  "cells": [
    {
      "cell_type": "code",
      "execution_count": 1,
      "metadata": {
        "id": "prFarrjoyJ1_"
      },
      "outputs": [],
      "source": [
        "import numpy as np\n",
        "import matplotlib.pyplot as plt\n",
        "import pandas as pd\n",
        "from sklearn.preprocessing import MinMaxScaler\n",
        "from keras import layers\n",
        "from keras.models import Sequential\n",
        "from tensorflow.keras import models\n",
        "from tensorflow.keras import layers"
      ]
    },
    {
      "cell_type": "code",
      "source": [
        "dataset_train = pd.read_csv('trainset.csv')"
      ],
      "metadata": {
        "id": "DI4YCxqXyWek"
      },
      "execution_count": 2,
      "outputs": []
    },
    {
      "cell_type": "code",
      "source": [
        "dataset_train.columns"
      ],
      "metadata": {
        "colab": {
          "base_uri": "https://localhost:8080/"
        },
        "id": "0l_gbXdPymIr",
        "outputId": "1eddcb0a-801d-440c-fd13-fc58a0fc5594"
      },
      "execution_count": 3,
      "outputs": [
        {
          "output_type": "execute_result",
          "data": {
            "text/plain": [
              "Index(['Date', 'Open', 'High', 'Low', 'Close', 'Adj Close', 'Volume'], dtype='object')"
            ]
          },
          "metadata": {},
          "execution_count": 3
        }
      ]
    },
    {
      "cell_type": "code",
      "source": [
        "dataset_train.head()"
      ],
      "metadata": {
        "colab": {
          "base_uri": "https://localhost:8080/",
          "height": 206
        },
        "id": "Uk-7XZsQypJ1",
        "outputId": "8b8fb6a9-b6e3-4423-c6dd-009737c40217"
      },
      "execution_count": 4,
      "outputs": [
        {
          "output_type": "execute_result",
          "data": {
            "text/plain": [
              "         Date        Open        High         Low       Close   Adj Close  \\\n",
              "0  2013-01-02  357.385559  361.151062  355.959839  359.288177  359.288177   \n",
              "1  2013-01-03  360.122742  363.600128  358.031342  359.496826  359.496826   \n",
              "2  2013-01-04  362.313507  368.339294  361.488861  366.600616  366.600616   \n",
              "3  2013-01-07  365.348755  367.301056  362.929504  365.001007  365.001007   \n",
              "4  2013-01-08  365.393463  365.771027  359.874359  364.280701  364.280701   \n",
              "\n",
              "    Volume  \n",
              "0  5115500  \n",
              "1  4666500  \n",
              "2  5562800  \n",
              "3  3332900  \n",
              "4  3373900  "
            ],
            "text/html": [
              "\n",
              "  <div id=\"df-64329ae7-b3de-4799-a661-85e233fc7972\" class=\"colab-df-container\">\n",
              "    <div>\n",
              "<style scoped>\n",
              "    .dataframe tbody tr th:only-of-type {\n",
              "        vertical-align: middle;\n",
              "    }\n",
              "\n",
              "    .dataframe tbody tr th {\n",
              "        vertical-align: top;\n",
              "    }\n",
              "\n",
              "    .dataframe thead th {\n",
              "        text-align: right;\n",
              "    }\n",
              "</style>\n",
              "<table border=\"1\" class=\"dataframe\">\n",
              "  <thead>\n",
              "    <tr style=\"text-align: right;\">\n",
              "      <th></th>\n",
              "      <th>Date</th>\n",
              "      <th>Open</th>\n",
              "      <th>High</th>\n",
              "      <th>Low</th>\n",
              "      <th>Close</th>\n",
              "      <th>Adj Close</th>\n",
              "      <th>Volume</th>\n",
              "    </tr>\n",
              "  </thead>\n",
              "  <tbody>\n",
              "    <tr>\n",
              "      <th>0</th>\n",
              "      <td>2013-01-02</td>\n",
              "      <td>357.385559</td>\n",
              "      <td>361.151062</td>\n",
              "      <td>355.959839</td>\n",
              "      <td>359.288177</td>\n",
              "      <td>359.288177</td>\n",
              "      <td>5115500</td>\n",
              "    </tr>\n",
              "    <tr>\n",
              "      <th>1</th>\n",
              "      <td>2013-01-03</td>\n",
              "      <td>360.122742</td>\n",
              "      <td>363.600128</td>\n",
              "      <td>358.031342</td>\n",
              "      <td>359.496826</td>\n",
              "      <td>359.496826</td>\n",
              "      <td>4666500</td>\n",
              "    </tr>\n",
              "    <tr>\n",
              "      <th>2</th>\n",
              "      <td>2013-01-04</td>\n",
              "      <td>362.313507</td>\n",
              "      <td>368.339294</td>\n",
              "      <td>361.488861</td>\n",
              "      <td>366.600616</td>\n",
              "      <td>366.600616</td>\n",
              "      <td>5562800</td>\n",
              "    </tr>\n",
              "    <tr>\n",
              "      <th>3</th>\n",
              "      <td>2013-01-07</td>\n",
              "      <td>365.348755</td>\n",
              "      <td>367.301056</td>\n",
              "      <td>362.929504</td>\n",
              "      <td>365.001007</td>\n",
              "      <td>365.001007</td>\n",
              "      <td>3332900</td>\n",
              "    </tr>\n",
              "    <tr>\n",
              "      <th>4</th>\n",
              "      <td>2013-01-08</td>\n",
              "      <td>365.393463</td>\n",
              "      <td>365.771027</td>\n",
              "      <td>359.874359</td>\n",
              "      <td>364.280701</td>\n",
              "      <td>364.280701</td>\n",
              "      <td>3373900</td>\n",
              "    </tr>\n",
              "  </tbody>\n",
              "</table>\n",
              "</div>\n",
              "    <div class=\"colab-df-buttons\">\n",
              "\n",
              "  <div class=\"colab-df-container\">\n",
              "    <button class=\"colab-df-convert\" onclick=\"convertToInteractive('df-64329ae7-b3de-4799-a661-85e233fc7972')\"\n",
              "            title=\"Convert this dataframe to an interactive table.\"\n",
              "            style=\"display:none;\">\n",
              "\n",
              "  <svg xmlns=\"http://www.w3.org/2000/svg\" height=\"24px\" viewBox=\"0 -960 960 960\">\n",
              "    <path d=\"M120-120v-720h720v720H120Zm60-500h600v-160H180v160Zm220 220h160v-160H400v160Zm0 220h160v-160H400v160ZM180-400h160v-160H180v160Zm440 0h160v-160H620v160ZM180-180h160v-160H180v160Zm440 0h160v-160H620v160Z\"/>\n",
              "  </svg>\n",
              "    </button>\n",
              "\n",
              "  <style>\n",
              "    .colab-df-container {\n",
              "      display:flex;\n",
              "      gap: 12px;\n",
              "    }\n",
              "\n",
              "    .colab-df-convert {\n",
              "      background-color: #E8F0FE;\n",
              "      border: none;\n",
              "      border-radius: 50%;\n",
              "      cursor: pointer;\n",
              "      display: none;\n",
              "      fill: #1967D2;\n",
              "      height: 32px;\n",
              "      padding: 0 0 0 0;\n",
              "      width: 32px;\n",
              "    }\n",
              "\n",
              "    .colab-df-convert:hover {\n",
              "      background-color: #E2EBFA;\n",
              "      box-shadow: 0px 1px 2px rgba(60, 64, 67, 0.3), 0px 1px 3px 1px rgba(60, 64, 67, 0.15);\n",
              "      fill: #174EA6;\n",
              "    }\n",
              "\n",
              "    .colab-df-buttons div {\n",
              "      margin-bottom: 4px;\n",
              "    }\n",
              "\n",
              "    [theme=dark] .colab-df-convert {\n",
              "      background-color: #3B4455;\n",
              "      fill: #D2E3FC;\n",
              "    }\n",
              "\n",
              "    [theme=dark] .colab-df-convert:hover {\n",
              "      background-color: #434B5C;\n",
              "      box-shadow: 0px 1px 3px 1px rgba(0, 0, 0, 0.15);\n",
              "      filter: drop-shadow(0px 1px 2px rgba(0, 0, 0, 0.3));\n",
              "      fill: #FFFFFF;\n",
              "    }\n",
              "  </style>\n",
              "\n",
              "    <script>\n",
              "      const buttonEl =\n",
              "        document.querySelector('#df-64329ae7-b3de-4799-a661-85e233fc7972 button.colab-df-convert');\n",
              "      buttonEl.style.display =\n",
              "        google.colab.kernel.accessAllowed ? 'block' : 'none';\n",
              "\n",
              "      async function convertToInteractive(key) {\n",
              "        const element = document.querySelector('#df-64329ae7-b3de-4799-a661-85e233fc7972');\n",
              "        const dataTable =\n",
              "          await google.colab.kernel.invokeFunction('convertToInteractive',\n",
              "                                                    [key], {});\n",
              "        if (!dataTable) return;\n",
              "\n",
              "        const docLinkHtml = 'Like what you see? Visit the ' +\n",
              "          '<a target=\"_blank\" href=https://colab.research.google.com/notebooks/data_table.ipynb>data table notebook</a>'\n",
              "          + ' to learn more about interactive tables.';\n",
              "        element.innerHTML = '';\n",
              "        dataTable['output_type'] = 'display_data';\n",
              "        await google.colab.output.renderOutput(dataTable, element);\n",
              "        const docLink = document.createElement('div');\n",
              "        docLink.innerHTML = docLinkHtml;\n",
              "        element.appendChild(docLink);\n",
              "      }\n",
              "    </script>\n",
              "  </div>\n",
              "\n",
              "\n",
              "<div id=\"df-d354dc03-a7de-4986-8eab-6b5ff90eb9b1\">\n",
              "  <button class=\"colab-df-quickchart\" onclick=\"quickchart('df-d354dc03-a7de-4986-8eab-6b5ff90eb9b1')\"\n",
              "            title=\"Suggest charts\"\n",
              "            style=\"display:none;\">\n",
              "\n",
              "<svg xmlns=\"http://www.w3.org/2000/svg\" height=\"24px\"viewBox=\"0 0 24 24\"\n",
              "     width=\"24px\">\n",
              "    <g>\n",
              "        <path d=\"M19 3H5c-1.1 0-2 .9-2 2v14c0 1.1.9 2 2 2h14c1.1 0 2-.9 2-2V5c0-1.1-.9-2-2-2zM9 17H7v-7h2v7zm4 0h-2V7h2v10zm4 0h-2v-4h2v4z\"/>\n",
              "    </g>\n",
              "</svg>\n",
              "  </button>\n",
              "\n",
              "<style>\n",
              "  .colab-df-quickchart {\n",
              "      --bg-color: #E8F0FE;\n",
              "      --fill-color: #1967D2;\n",
              "      --hover-bg-color: #E2EBFA;\n",
              "      --hover-fill-color: #174EA6;\n",
              "      --disabled-fill-color: #AAA;\n",
              "      --disabled-bg-color: #DDD;\n",
              "  }\n",
              "\n",
              "  [theme=dark] .colab-df-quickchart {\n",
              "      --bg-color: #3B4455;\n",
              "      --fill-color: #D2E3FC;\n",
              "      --hover-bg-color: #434B5C;\n",
              "      --hover-fill-color: #FFFFFF;\n",
              "      --disabled-bg-color: #3B4455;\n",
              "      --disabled-fill-color: #666;\n",
              "  }\n",
              "\n",
              "  .colab-df-quickchart {\n",
              "    background-color: var(--bg-color);\n",
              "    border: none;\n",
              "    border-radius: 50%;\n",
              "    cursor: pointer;\n",
              "    display: none;\n",
              "    fill: var(--fill-color);\n",
              "    height: 32px;\n",
              "    padding: 0;\n",
              "    width: 32px;\n",
              "  }\n",
              "\n",
              "  .colab-df-quickchart:hover {\n",
              "    background-color: var(--hover-bg-color);\n",
              "    box-shadow: 0 1px 2px rgba(60, 64, 67, 0.3), 0 1px 3px 1px rgba(60, 64, 67, 0.15);\n",
              "    fill: var(--button-hover-fill-color);\n",
              "  }\n",
              "\n",
              "  .colab-df-quickchart-complete:disabled,\n",
              "  .colab-df-quickchart-complete:disabled:hover {\n",
              "    background-color: var(--disabled-bg-color);\n",
              "    fill: var(--disabled-fill-color);\n",
              "    box-shadow: none;\n",
              "  }\n",
              "\n",
              "  .colab-df-spinner {\n",
              "    border: 2px solid var(--fill-color);\n",
              "    border-color: transparent;\n",
              "    border-bottom-color: var(--fill-color);\n",
              "    animation:\n",
              "      spin 1s steps(1) infinite;\n",
              "  }\n",
              "\n",
              "  @keyframes spin {\n",
              "    0% {\n",
              "      border-color: transparent;\n",
              "      border-bottom-color: var(--fill-color);\n",
              "      border-left-color: var(--fill-color);\n",
              "    }\n",
              "    20% {\n",
              "      border-color: transparent;\n",
              "      border-left-color: var(--fill-color);\n",
              "      border-top-color: var(--fill-color);\n",
              "    }\n",
              "    30% {\n",
              "      border-color: transparent;\n",
              "      border-left-color: var(--fill-color);\n",
              "      border-top-color: var(--fill-color);\n",
              "      border-right-color: var(--fill-color);\n",
              "    }\n",
              "    40% {\n",
              "      border-color: transparent;\n",
              "      border-right-color: var(--fill-color);\n",
              "      border-top-color: var(--fill-color);\n",
              "    }\n",
              "    60% {\n",
              "      border-color: transparent;\n",
              "      border-right-color: var(--fill-color);\n",
              "    }\n",
              "    80% {\n",
              "      border-color: transparent;\n",
              "      border-right-color: var(--fill-color);\n",
              "      border-bottom-color: var(--fill-color);\n",
              "    }\n",
              "    90% {\n",
              "      border-color: transparent;\n",
              "      border-bottom-color: var(--fill-color);\n",
              "    }\n",
              "  }\n",
              "</style>\n",
              "\n",
              "  <script>\n",
              "    async function quickchart(key) {\n",
              "      const quickchartButtonEl =\n",
              "        document.querySelector('#' + key + ' button');\n",
              "      quickchartButtonEl.disabled = true;  // To prevent multiple clicks.\n",
              "      quickchartButtonEl.classList.add('colab-df-spinner');\n",
              "      try {\n",
              "        const charts = await google.colab.kernel.invokeFunction(\n",
              "            'suggestCharts', [key], {});\n",
              "      } catch (error) {\n",
              "        console.error('Error during call to suggestCharts:', error);\n",
              "      }\n",
              "      quickchartButtonEl.classList.remove('colab-df-spinner');\n",
              "      quickchartButtonEl.classList.add('colab-df-quickchart-complete');\n",
              "    }\n",
              "    (() => {\n",
              "      let quickchartButtonEl =\n",
              "        document.querySelector('#df-d354dc03-a7de-4986-8eab-6b5ff90eb9b1 button');\n",
              "      quickchartButtonEl.style.display =\n",
              "        google.colab.kernel.accessAllowed ? 'block' : 'none';\n",
              "    })();\n",
              "  </script>\n",
              "</div>\n",
              "\n",
              "    </div>\n",
              "  </div>\n"
            ],
            "application/vnd.google.colaboratory.intrinsic+json": {
              "type": "dataframe",
              "variable_name": "dataset_train",
              "summary": "{\n  \"name\": \"dataset_train\",\n  \"rows\": 1259,\n  \"fields\": [\n    {\n      \"column\": \"Date\",\n      \"properties\": {\n        \"dtype\": \"object\",\n        \"num_unique_values\": 1259,\n        \"samples\": [\n          \"2013-04-23\",\n          \"2017-01-30\",\n          \"2013-03-06\"\n        ],\n        \"semantic_type\": \"\",\n        \"description\": \"\"\n      }\n    },\n    {\n      \"column\": \"Open\",\n      \"properties\": {\n        \"dtype\": \"number\",\n        \"std\": 175.63057351209417,\n        \"min\": 350.053253,\n        \"max\": 1075.199951,\n        \"num_unique_values\": 1228,\n        \"samples\": [\n          727.580017,\n          524.118103,\n          553.40564\n        ],\n        \"semantic_type\": \"\",\n        \"description\": \"\"\n      }\n    },\n    {\n      \"column\": \"High\",\n      \"properties\": {\n        \"dtype\": \"number\",\n        \"std\": 176.62741611717948,\n        \"min\": 350.391052,\n        \"max\": 1078.48999,\n        \"num_unique_values\": 1239,\n        \"samples\": [\n          580.309143,\n          577.489014,\n          517.056946\n        ],\n        \"semantic_type\": \"\",\n        \"description\": \"\"\n      }\n    },\n    {\n      \"column\": \"Low\",\n      \"properties\": {\n        \"dtype\": \"number\",\n        \"std\": 174.73281352959697,\n        \"min\": 345.512787,\n        \"max\": 1063.550049,\n        \"num_unique_values\": 1240,\n        \"samples\": [\n          576.052551,\n          568.403076,\n          518.469177\n        ],\n        \"semantic_type\": \"\",\n        \"description\": \"\"\n      }\n    },\n    {\n      \"column\": \"Close\",\n      \"properties\": {\n        \"dtype\": \"number\",\n        \"std\": 175.82099273815913,\n        \"min\": 349.164032,\n        \"max\": 1077.140015,\n        \"num_unique_values\": 1245,\n        \"samples\": [\n          749.460022,\n          557.812866,\n          927.330017\n        ],\n        \"semantic_type\": \"\",\n        \"description\": \"\"\n      }\n    },\n    {\n      \"column\": \"Adj Close\",\n      \"properties\": {\n        \"dtype\": \"number\",\n        \"std\": 175.82099273815913,\n        \"min\": 349.164032,\n        \"max\": 1077.140015,\n        \"num_unique_values\": 1245,\n        \"samples\": [\n          749.460022,\n          557.812866,\n          927.330017\n        ],\n        \"semantic_type\": \"\",\n        \"description\": \"\"\n      }\n    },\n    {\n      \"column\": \"Volume\",\n      \"properties\": {\n        \"dtype\": \"number\",\n        \"std\": 1672159,\n        \"min\": 7900,\n        \"max\": 23283100,\n        \"num_unique_values\": 1228,\n        \"samples\": [\n          1837200,\n          2000000,\n          1477800\n        ],\n        \"semantic_type\": \"\",\n        \"description\": \"\"\n      }\n    }\n  ]\n}"
            }
          },
          "metadata": {},
          "execution_count": 4
        }
      ]
    },
    {
      "cell_type": "code",
      "source": [
        "train_set = dataset_train.iloc[:,1:2].values"
      ],
      "metadata": {
        "id": "hjTOzBEayryk"
      },
      "execution_count": 5,
      "outputs": []
    },
    {
      "cell_type": "code",
      "source": [
        "type(train_set)"
      ],
      "metadata": {
        "colab": {
          "base_uri": "https://localhost:8080/"
        },
        "id": "oE1e3slYyual",
        "outputId": "bb73a7ab-f8b4-4c35-a52b-807758c3861b"
      },
      "execution_count": 6,
      "outputs": [
        {
          "output_type": "execute_result",
          "data": {
            "text/plain": [
              "numpy.ndarray"
            ]
          },
          "metadata": {},
          "execution_count": 6
        }
      ]
    },
    {
      "cell_type": "code",
      "source": [
        "train_set.shape"
      ],
      "metadata": {
        "colab": {
          "base_uri": "https://localhost:8080/"
        },
        "id": "DTOR7AeNyxAM",
        "outputId": "6d576ac4-41a0-4993-9e39-ae3bdbe006d1"
      },
      "execution_count": 7,
      "outputs": [
        {
          "output_type": "execute_result",
          "data": {
            "text/plain": [
              "(1259, 1)"
            ]
          },
          "metadata": {},
          "execution_count": 7
        }
      ]
    },
    {
      "cell_type": "code",
      "source": [
        "sc = MinMaxScaler(feature_range=(0,1))\n",
        "training_set_scaled = sc.fit_transform(train_set)"
      ],
      "metadata": {
        "id": "eVZ5hXKryzTu"
      },
      "execution_count": 8,
      "outputs": []
    },
    {
      "cell_type": "code",
      "source": [
        "training_set_scaled.shape"
      ],
      "metadata": {
        "colab": {
          "base_uri": "https://localhost:8080/"
        },
        "id": "dla2iHbJy2fp",
        "outputId": "e899ab04-dedb-4543-f6a6-e21d086c7980"
      },
      "execution_count": 9,
      "outputs": [
        {
          "output_type": "execute_result",
          "data": {
            "text/plain": [
              "(1259, 1)"
            ]
          },
          "metadata": {},
          "execution_count": 9
        }
      ]
    },
    {
      "cell_type": "code",
      "source": [
        "X_train_array = []\n",
        "y_train_array = []\n",
        "for i in range(60, 1259):\n",
        "  X_train_array.append(training_set_scaled[i-60:i,0])\n",
        "  y_train_array.append(training_set_scaled[i,0])\n",
        "X_train, y_train = np.array(X_train_array), np.array(y_train_array)\n",
        "X_train1 = X_train.reshape((X_train.shape[0], X_train.shape[1],1))\n"
      ],
      "metadata": {
        "id": "OjtYUeABy4rW"
      },
      "execution_count": 10,
      "outputs": []
    },
    {
      "cell_type": "code",
      "source": [
        "X_train.shape\n"
      ],
      "metadata": {
        "colab": {
          "base_uri": "https://localhost:8080/"
        },
        "id": "x35G9Oxiy7Qd",
        "outputId": "724d9814-a4a1-45fa-947f-3cae0765c8ff"
      },
      "execution_count": 11,
      "outputs": [
        {
          "output_type": "execute_result",
          "data": {
            "text/plain": [
              "(1199, 60)"
            ]
          },
          "metadata": {},
          "execution_count": 11
        }
      ]
    },
    {
      "cell_type": "code",
      "source": [
        "length = 60\n",
        "n_features = 1\n"
      ],
      "metadata": {
        "id": "nMwB8rZIy-PL"
      },
      "execution_count": 12,
      "outputs": []
    },
    {
      "cell_type": "code",
      "source": [
        "model = models.Sequential()\n",
        "model.add(layers.SimpleRNN(10,input_shape=(length,n_features)))\n",
        "model.add(layers.Dense(1))"
      ],
      "metadata": {
        "id": "eDYdI0oHzCPu"
      },
      "execution_count": 13,
      "outputs": []
    },
    {
      "cell_type": "code",
      "source": [
        "\n",
        "model.compile(optimizer='adam', loss='mse')"
      ],
      "metadata": {
        "id": "k-67ZHiIzraT"
      },
      "execution_count": 14,
      "outputs": []
    },
    {
      "cell_type": "code",
      "source": [
        "print(\"NAME:KAVYA K  \\nREGISTER NUMBER: 212222230065\\n        \")\n",
        "\n",
        "model.summary()"
      ],
      "metadata": {
        "colab": {
          "base_uri": "https://localhost:8080/"
        },
        "id": "Rkcz0qh4zw3a",
        "outputId": "7102f3a7-8c5f-4906-d251-b3502ba37f31"
      },
      "execution_count": 15,
      "outputs": [
        {
          "output_type": "stream",
          "name": "stdout",
          "text": [
            "NAME:KAVYA K  \n",
            "REGISTER NUMBER: 212222230065\n",
            "        \n",
            "Model: \"sequential\"\n",
            "_________________________________________________________________\n",
            " Layer (type)                Output Shape              Param #   \n",
            "=================================================================\n",
            " simple_rnn (SimpleRNN)      (None, 10)                120       \n",
            "                                                                 \n",
            " dense (Dense)               (None, 1)                 11        \n",
            "                                                                 \n",
            "=================================================================\n",
            "Total params: 131 (524.00 Byte)\n",
            "Trainable params: 131 (524.00 Byte)\n",
            "Non-trainable params: 0 (0.00 Byte)\n",
            "_________________________________________________________________\n"
          ]
        }
      ]
    },
    {
      "cell_type": "code",
      "source": [
        "model.fit(X_train1,y_train,epochs=80, batch_size=32)"
      ],
      "metadata": {
        "colab": {
          "base_uri": "https://localhost:8080/"
        },
        "id": "htVeGs8rz0UF",
        "outputId": "0820dca3-47d3-4988-c986-688430d3fa8a"
      },
      "execution_count": 16,
      "outputs": [
        {
          "output_type": "stream",
          "name": "stdout",
          "text": [
            "Epoch 1/80\n",
            "38/38 [==============================] - 2s 11ms/step - loss: 0.0138\n",
            "Epoch 2/80\n",
            "38/38 [==============================] - 0s 10ms/step - loss: 0.0012\n",
            "Epoch 3/80\n",
            "38/38 [==============================] - 0s 10ms/step - loss: 7.8397e-04\n",
            "Epoch 4/80\n",
            "38/38 [==============================] - 0s 9ms/step - loss: 6.0872e-04\n",
            "Epoch 5/80\n",
            "38/38 [==============================] - 0s 10ms/step - loss: 4.9742e-04\n",
            "Epoch 6/80\n",
            "38/38 [==============================] - 0s 9ms/step - loss: 4.3178e-04\n",
            "Epoch 7/80\n",
            "38/38 [==============================] - 0s 10ms/step - loss: 3.9477e-04\n",
            "Epoch 8/80\n",
            "38/38 [==============================] - 0s 10ms/step - loss: 3.6491e-04\n",
            "Epoch 9/80\n",
            "38/38 [==============================] - 0s 10ms/step - loss: 3.3752e-04\n",
            "Epoch 10/80\n",
            "38/38 [==============================] - 0s 9ms/step - loss: 3.2237e-04\n",
            "Epoch 11/80\n",
            "38/38 [==============================] - 0s 10ms/step - loss: 3.0905e-04\n",
            "Epoch 12/80\n",
            "38/38 [==============================] - 0s 9ms/step - loss: 2.9627e-04\n",
            "Epoch 13/80\n",
            "38/38 [==============================] - 0s 10ms/step - loss: 2.8753e-04\n",
            "Epoch 14/80\n",
            "38/38 [==============================] - 0s 10ms/step - loss: 2.6711e-04\n",
            "Epoch 15/80\n",
            "38/38 [==============================] - 1s 15ms/step - loss: 2.5784e-04\n",
            "Epoch 16/80\n",
            "38/38 [==============================] - 1s 16ms/step - loss: 2.4870e-04\n",
            "Epoch 17/80\n",
            "38/38 [==============================] - 1s 16ms/step - loss: 2.4657e-04\n",
            "Epoch 18/80\n",
            "38/38 [==============================] - 1s 15ms/step - loss: 2.4375e-04\n",
            "Epoch 19/80\n",
            "38/38 [==============================] - 1s 16ms/step - loss: 2.3456e-04\n",
            "Epoch 20/80\n",
            "38/38 [==============================] - 1s 15ms/step - loss: 2.2875e-04\n",
            "Epoch 21/80\n",
            "38/38 [==============================] - 1s 15ms/step - loss: 2.2004e-04\n",
            "Epoch 22/80\n",
            "38/38 [==============================] - 0s 12ms/step - loss: 2.1655e-04\n",
            "Epoch 23/80\n",
            "38/38 [==============================] - 0s 10ms/step - loss: 2.0878e-04\n",
            "Epoch 24/80\n",
            "38/38 [==============================] - 0s 10ms/step - loss: 2.0552e-04\n",
            "Epoch 25/80\n",
            "38/38 [==============================] - 0s 10ms/step - loss: 2.0698e-04\n",
            "Epoch 26/80\n",
            "38/38 [==============================] - 0s 10ms/step - loss: 2.0640e-04\n",
            "Epoch 27/80\n",
            "38/38 [==============================] - 0s 9ms/step - loss: 1.9957e-04\n",
            "Epoch 28/80\n",
            "38/38 [==============================] - 0s 9ms/step - loss: 2.0074e-04\n",
            "Epoch 29/80\n",
            "38/38 [==============================] - 0s 10ms/step - loss: 2.0395e-04\n",
            "Epoch 30/80\n",
            "38/38 [==============================] - 0s 9ms/step - loss: 1.9928e-04\n",
            "Epoch 31/80\n",
            "38/38 [==============================] - 0s 9ms/step - loss: 1.9622e-04\n",
            "Epoch 32/80\n",
            "38/38 [==============================] - 0s 10ms/step - loss: 2.0115e-04\n",
            "Epoch 33/80\n",
            "38/38 [==============================] - 0s 10ms/step - loss: 1.8640e-04\n",
            "Epoch 34/80\n",
            "38/38 [==============================] - 0s 10ms/step - loss: 1.8689e-04\n",
            "Epoch 35/80\n",
            "38/38 [==============================] - 0s 9ms/step - loss: 1.9787e-04\n",
            "Epoch 36/80\n",
            "38/38 [==============================] - 0s 9ms/step - loss: 1.8412e-04\n",
            "Epoch 37/80\n",
            "38/38 [==============================] - 0s 10ms/step - loss: 1.8237e-04\n",
            "Epoch 38/80\n",
            "38/38 [==============================] - 0s 9ms/step - loss: 1.9149e-04\n",
            "Epoch 39/80\n",
            "38/38 [==============================] - 0s 9ms/step - loss: 1.7951e-04\n",
            "Epoch 40/80\n",
            "38/38 [==============================] - 1s 19ms/step - loss: 1.7705e-04\n",
            "Epoch 41/80\n",
            "38/38 [==============================] - 0s 9ms/step - loss: 1.8116e-04\n",
            "Epoch 42/80\n",
            "38/38 [==============================] - 0s 10ms/step - loss: 1.7959e-04\n",
            "Epoch 43/80\n",
            "38/38 [==============================] - 0s 10ms/step - loss: 1.7700e-04\n",
            "Epoch 44/80\n",
            "38/38 [==============================] - 0s 9ms/step - loss: 1.8186e-04\n",
            "Epoch 45/80\n",
            "38/38 [==============================] - 0s 9ms/step - loss: 1.7854e-04\n",
            "Epoch 46/80\n",
            "38/38 [==============================] - 0s 9ms/step - loss: 1.7502e-04\n",
            "Epoch 47/80\n",
            "38/38 [==============================] - 0s 10ms/step - loss: 1.7519e-04\n",
            "Epoch 48/80\n",
            "38/38 [==============================] - 1s 15ms/step - loss: 1.7929e-04\n",
            "Epoch 49/80\n",
            "38/38 [==============================] - 1s 16ms/step - loss: 1.8264e-04\n",
            "Epoch 50/80\n",
            "38/38 [==============================] - 1s 15ms/step - loss: 1.8972e-04\n",
            "Epoch 51/80\n",
            "38/38 [==============================] - 1s 16ms/step - loss: 1.7479e-04\n",
            "Epoch 52/80\n",
            "38/38 [==============================] - 1s 16ms/step - loss: 1.7880e-04\n",
            "Epoch 53/80\n",
            "38/38 [==============================] - 1s 17ms/step - loss: 1.8208e-04\n",
            "Epoch 54/80\n",
            "38/38 [==============================] - 0s 11ms/step - loss: 2.0010e-04\n",
            "Epoch 55/80\n",
            "38/38 [==============================] - 0s 10ms/step - loss: 1.7541e-04\n",
            "Epoch 56/80\n",
            "38/38 [==============================] - 0s 9ms/step - loss: 1.7360e-04\n",
            "Epoch 57/80\n",
            "38/38 [==============================] - 0s 10ms/step - loss: 1.7251e-04\n",
            "Epoch 58/80\n",
            "38/38 [==============================] - 0s 9ms/step - loss: 1.7978e-04\n",
            "Epoch 59/80\n",
            "38/38 [==============================] - 0s 9ms/step - loss: 1.8639e-04\n",
            "Epoch 60/80\n",
            "38/38 [==============================] - 0s 10ms/step - loss: 1.9257e-04\n",
            "Epoch 61/80\n",
            "38/38 [==============================] - 0s 9ms/step - loss: 1.8992e-04\n",
            "Epoch 62/80\n",
            "38/38 [==============================] - 0s 9ms/step - loss: 2.0418e-04\n",
            "Epoch 63/80\n",
            "38/38 [==============================] - 0s 10ms/step - loss: 1.7762e-04\n",
            "Epoch 64/80\n",
            "38/38 [==============================] - 0s 9ms/step - loss: 1.6882e-04\n",
            "Epoch 65/80\n",
            "38/38 [==============================] - 0s 9ms/step - loss: 1.7251e-04\n",
            "Epoch 66/80\n",
            "38/38 [==============================] - 0s 10ms/step - loss: 1.8468e-04\n",
            "Epoch 67/80\n",
            "38/38 [==============================] - 0s 9ms/step - loss: 1.9462e-04\n",
            "Epoch 68/80\n",
            "38/38 [==============================] - 0s 10ms/step - loss: 1.7148e-04\n",
            "Epoch 69/80\n",
            "38/38 [==============================] - 0s 10ms/step - loss: 1.8968e-04\n",
            "Epoch 70/80\n",
            "38/38 [==============================] - 0s 9ms/step - loss: 2.0966e-04\n",
            "Epoch 71/80\n",
            "38/38 [==============================] - 1s 20ms/step - loss: 1.7924e-04\n",
            "Epoch 72/80\n",
            "38/38 [==============================] - 0s 10ms/step - loss: 1.7651e-04\n",
            "Epoch 73/80\n",
            "38/38 [==============================] - 0s 10ms/step - loss: 1.7653e-04\n",
            "Epoch 74/80\n",
            "38/38 [==============================] - 0s 10ms/step - loss: 1.6990e-04\n",
            "Epoch 75/80\n",
            "38/38 [==============================] - 0s 10ms/step - loss: 1.7409e-04\n",
            "Epoch 76/80\n",
            "38/38 [==============================] - 0s 10ms/step - loss: 1.8625e-04\n",
            "Epoch 77/80\n",
            "38/38 [==============================] - 0s 10ms/step - loss: 1.8100e-04\n",
            "Epoch 78/80\n",
            "38/38 [==============================] - 0s 10ms/step - loss: 1.8061e-04\n",
            "Epoch 79/80\n",
            "38/38 [==============================] - 0s 11ms/step - loss: 1.7467e-04\n",
            "Epoch 80/80\n",
            "38/38 [==============================] - 1s 15ms/step - loss: 1.7075e-04\n"
          ]
        },
        {
          "output_type": "execute_result",
          "data": {
            "text/plain": [
              "<keras.src.callbacks.History at 0x7d2aee3c7550>"
            ]
          },
          "metadata": {},
          "execution_count": 16
        }
      ]
    },
    {
      "cell_type": "code",
      "source": [
        "dataset_test = pd.read_csv('testset.csv')"
      ],
      "metadata": {
        "id": "IWfzYVlDz4r4"
      },
      "execution_count": 17,
      "outputs": []
    },
    {
      "cell_type": "code",
      "source": [
        "test_set = dataset_test.iloc[:,1:2].values"
      ],
      "metadata": {
        "id": "z3M9T3_S5jHN"
      },
      "execution_count": 18,
      "outputs": []
    },
    {
      "cell_type": "code",
      "source": [
        "test_set.shape"
      ],
      "metadata": {
        "colab": {
          "base_uri": "https://localhost:8080/"
        },
        "id": "Fpe8eUL75ml3",
        "outputId": "89e898e8-e6e0-4283-d1c3-81d345ce4f36"
      },
      "execution_count": 19,
      "outputs": [
        {
          "output_type": "execute_result",
          "data": {
            "text/plain": [
              "(125, 1)"
            ]
          },
          "metadata": {},
          "execution_count": 19
        }
      ]
    },
    {
      "cell_type": "code",
      "source": [
        "dataset_total = pd.concat((dataset_train['Open'],dataset_test['Open']),axis=0)"
      ],
      "metadata": {
        "id": "nZIS5cf-5prV"
      },
      "execution_count": 20,
      "outputs": []
    },
    {
      "cell_type": "code",
      "source": [
        "inputs = dataset_total.values\n",
        "inputs = inputs.reshape(-1,1)\n",
        "inputs_scaled=sc.transform(inputs)\n",
        "X_test = []\n",
        "for i in range(60,1384):\n",
        "  X_test.append(inputs_scaled[i-60:i,0])\n",
        "X_test = np.array(X_test)\n",
        "X_test = np.reshape(X_test,(X_test.shape[0], X_test.shape[1],1))"
      ],
      "metadata": {
        "id": "y9J_frD03uRm"
      },
      "execution_count": 21,
      "outputs": []
    },
    {
      "cell_type": "code",
      "source": [
        "X_test.shape"
      ],
      "metadata": {
        "colab": {
          "base_uri": "https://localhost:8080/"
        },
        "id": "Ioz4RMl_3xGx",
        "outputId": "0841ecc3-b828-4183-b35b-1f5678693f31"
      },
      "execution_count": 22,
      "outputs": [
        {
          "output_type": "execute_result",
          "data": {
            "text/plain": [
              "(1324, 60, 1)"
            ]
          },
          "metadata": {},
          "execution_count": 22
        }
      ]
    },
    {
      "cell_type": "code",
      "source": [
        "predicted_stock_price_scaled = model.predict(X_test)\n",
        "predicted_stock_price = sc.inverse_transform(predicted_stock_price_scaled)"
      ],
      "metadata": {
        "colab": {
          "base_uri": "https://localhost:8080/"
        },
        "id": "ch10P11e32GY",
        "outputId": "e9c62a02-13fa-4e1d-991d-91e2db0c4835"
      },
      "execution_count": 23,
      "outputs": [
        {
          "output_type": "stream",
          "name": "stdout",
          "text": [
            "42/42 [==============================] - 1s 6ms/step\n"
          ]
        }
      ]
    },
    {
      "cell_type": "code",
      "source": [
        "print(\"NAME: KAVYA K \\nREGISTER NUMBER: 212222230065\\n \")\n",
        "plt.plot(np.arange(0,1384),inputs, color='red', label = 'Test(Real) Google stock price')\n",
        "plt.plot(np.arange(60,1384),predicted_stock_price, color='blue', label = 'Predicted Google stock price')\n",
        "plt.title('Google Stock Price Prediction')\n",
        "plt.xlabel('Time')\n",
        "plt.ylabel('Google Stock Price')\n",
        "plt.legend()\n",
        "plt.show()\n"
      ],
      "metadata": {
        "colab": {
          "base_uri": "https://localhost:8080/",
          "height": 524
        },
        "id": "FPe_oMVx33FY",
        "outputId": "32bdd367-a334-4210-cf6d-98b2011bccea"
      },
      "execution_count": 24,
      "outputs": [
        {
          "output_type": "stream",
          "name": "stdout",
          "text": [
            "NAME: KAVYA K \n",
            "REGISTER NUMBER: 212222230065\n",
            " \n"
          ]
        },
        {
          "output_type": "display_data",
          "data": {
            "text/plain": [
              "<Figure size 640x480 with 1 Axes>"
            ],
            "image/png": "[encoded data removed]"
          },
          "metadata": {}
        }
      ]
    }
  ]
}